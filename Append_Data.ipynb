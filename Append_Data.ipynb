{
  "nbformat": 4,
  "nbformat_minor": 0,
  "metadata": {
    "colab": {
      "provenance": [],
      "authorship_tag": "ABX9TyNzMm/FkV2WuWVImrBriEP+",
      "include_colab_link": true
    },
    "kernelspec": {
      "name": "python3",
      "display_name": "Python 3"
    },
    "language_info": {
      "name": "python"
    }
  },
  "cells": [
    {
      "cell_type": "markdown",
      "metadata": {
        "id": "view-in-github",
        "colab_type": "text"
      },
      "source": [
        "<a href=\"https://colab.research.google.com/github/PatilTanmay512/Practice/blob/main/Append_Data.ipynb\" target=\"_parent\"><img src=\"https://colab.research.google.com/assets/colab-badge.svg\" alt=\"Open In Colab\"/></a>"
      ]
    },
    {
      "cell_type": "code",
      "execution_count": null,
      "metadata": {
        "id": "hyYX3a7MI8Fz",
        "colab": {
          "base_uri": "https://localhost:8080/"
        },
        "outputId": "45350aff-d6ab-475b-a49a-0e866b655552"
      },
      "outputs": [
        {
          "output_type": "stream",
          "name": "stdout",
          "text": [
            "    name  age  gender\n",
            "0   John   25    Male\n",
            "1    Bob   30    Male\n",
            "2  Alice   18  Female\n",
            "3  Emily   22  Female\n"
          ]
        }
      ],
      "source": [
        "import pandas as pd\n",
        "\n",
        "# create a sample dataset\n",
        "data = {'name': ['John', 'Bob', 'Alice', 'Emily'], 'age': [25, 30, 18, 22]}\n",
        "df = pd.DataFrame(data)\n",
        "\n",
        "# add a new column called 'gender'\n",
        "df['gender'] = ['Male', 'Male', 'Female', 'Female']\n",
        "\n",
        "# print the updated dataset\n",
        "print(df)"
      ]
    },
    {
      "cell_type": "code",
      "source": [],
      "metadata": {
        "id": "zDHZeHg8R-Cd"
      },
      "execution_count": null,
      "outputs": []
    },
    {
      "cell_type": "code",
      "source": [
        "import pandas as pd\n",
        "\n",
        "# create a sample dataset\n",
        "data = {'name': ['John', 'Bob', 'Alice', 'Emily'], 'age': [25, 30, 18, 22]}\n",
        "df = pd.DataFrame(data)\n",
        "\n",
        "# add an empty column called 'salary'\n",
        "df['salary'] = pd.DataFrame(columns=['salary'])\n",
        "\n",
        "# print the updated dataset\n",
        "print(df)\n"
      ],
      "metadata": {
        "colab": {
          "base_uri": "https://localhost:8080/"
        },
        "id": "J1D5KyHHDA67",
        "outputId": "4f1dba44-b8d5-4380-8dca-0e16a0fe445c"
      },
      "execution_count": null,
      "outputs": [
        {
          "output_type": "stream",
          "name": "stdout",
          "text": [
            "    name  age salary\n",
            "0   John   25    NaN\n",
            "1    Bob   30    NaN\n",
            "2  Alice   18    NaN\n",
            "3  Emily   22    NaN\n"
          ]
        }
      ]
    },
    {
      "cell_type": "code",
      "source": [
        "import pandas as pd\n",
        "\n",
        "# create a sample dataset\n",
        "data = {'name': ['John', 'Bob', 'Alice', 'Emily'], 'age': [25, 30, 18, 22], 'salary': [50000, 60000, 45000, 55000]}\n",
        "df = pd.DataFrame(data)\n",
        "\n",
        "# rearrange the columns in the dataset\n",
        "df = df.reindex(columns=['name', 'salary', 'age'])\n",
        "\n",
        "# print the updated dataset\n",
        "print(df)\n"
      ],
      "metadata": {
        "colab": {
          "base_uri": "https://localhost:8080/"
        },
        "id": "By418GRTDYrP",
        "outputId": "5133e230-1e4c-40e6-fd50-10b7d7734097"
      },
      "execution_count": null,
      "outputs": [
        {
          "output_type": "stream",
          "name": "stdout",
          "text": [
            "    name  salary  age\n",
            "0   John   50000   25\n",
            "1    Bob   60000   30\n",
            "2  Alice   45000   18\n",
            "3  Emily   55000   22\n"
          ]
        }
      ]
    },
    {
      "cell_type": "markdown",
      "source": [
        "# Append Data Set"
      ],
      "metadata": {
        "id": "NgEOV9rkHo8R"
      }
    },
    {
      "cell_type": "code",
      "source": [
        "#To append two Excel files with different formats into one format using Pandas in Python, you can follow these steps:\n",
        "\n",
        "#1.Import the Pandas library:\n",
        "import pandas as pd\n",
        "\n",
        "#2.Load the first Excel file into a Pandas DataFrame:\n",
        "\n",
        "df1 = pd.read_excel('file1.xlsx')\n",
        "\n",
        "#3.Load the second Excel file into a Pandas DataFrame, but only read in the columns that match the desired format:\n",
        "#In this example, we assume that the desired format only includes the 'Name', 'Age', and 'Salary' columns.\n",
        "\n",
        "df2 = pd.read_excel('file2.xlsx', usecols=['Name', 'Age', 'Salary'])\n",
        "\n",
        "#4.Rename the columns in the second DataFrame to match the column names in the first DataFrame:\n",
        "#In this example, we assume that the column names in the first DataFrame are 'name', 'age', and 'salary'.\n",
        "df2 = df2.rename(columns={'Name': 'name', 'Age': 'age', 'Salary': 'salary'})\n",
        "\n",
        "#5.Append the second DataFrame to the first DataFrame:\n",
        "#In this example, we assume that the two DataFrames have the same column order.\n",
        "df = df1.append(df2, ignore_index=True)\n",
        "\n",
        "#6.Write the combined DataFrame to a new Excel file:\n",
        "#In this example, we assume that we want to write the combined DataFrame to a new Excel file\n",
        "# named 'combined_file.xlsx', and that we don't want to include the index column in the output file.\n",
        "\n",
        "df.to_excel('combined_file.xlsx', index=False)\n"
      ],
      "metadata": {
        "id": "Zg1-lS0gEz49"
      },
      "execution_count": null,
      "outputs": []
    },
    {
      "cell_type": "code",
      "source": [
        "!apt-get install -y python3-tk\n",
        "!pip install turtle\n",
        "\n",
        "import turtle\n",
        "\n",
        "# Create a turtle object\n",
        "t = turtle.Turtle()\n",
        "\n",
        "# Move the turtle forward 100 units\n",
        "t.forward(100)\n",
        "\n",
        "# Exit the turtle window\n",
        "turtle.done()\n"
      ],
      "metadata": {
        "id": "XX3-Ps9fT6Mk"
      },
      "execution_count": null,
      "outputs": []
    },
    {
      "cell_type": "code",
      "source": [
        "import turtle\n",
        "\n",
        "# Create a turtle object\n",
        "t = turtle.Turtle()\n",
        "\n",
        "# Draw a square\n",
        "for i in range(4):\n",
        "    t.forward(100)\n",
        "    t.right(90)\n",
        "\n",
        "# Exit the turtle window\n",
        "turtle.done()\n"
      ],
      "metadata": {
        "id": "7KM4wB5gSAW3"
      },
      "execution_count": null,
      "outputs": []
    },
    {
      "cell_type": "markdown",
      "source": [
        "# Add Similar value column in data \n"
      ],
      "metadata": {
        "id": "POKFQZtlB2Cb"
      }
    },
    {
      "cell_type": "code",
      "source": [
        "import pandas as pd\n",
        "\n",
        "# Create a new column with all \"Yes\" values\n",
        "df['New Column'] = 'Yes'\n",
        "\n",
        "# Print the DataFrame to verify the new column has been added\n",
        "print(df)\n"
      ],
      "metadata": {
        "id": "bafl9dveU71c"
      },
      "execution_count": null,
      "outputs": []
    },
    {
      "cell_type": "markdown",
      "source": [
        "# Filter Data\n",
        "\n"
      ],
      "metadata": {
        "id": "vxHdPj7eB7Th"
      }
    },
    {
      "cell_type": "markdown",
      "source": [
        "#### Normal Data"
      ],
      "metadata": {
        "id": "zNYjUHkkCCP8"
      }
    },
    {
      "cell_type": "code",
      "source": [
        "#1.\n",
        "\n",
        "import pandas as pd\n",
        "\n",
        "# Filter the DataFrame to select rows where the \"Age\" column is greater than or equal to 18\n",
        "filtered_df = df[df['Age'] >= 18]\n",
        "\n",
        "# Print the filtered DataFrame to verify the results\n",
        "print(filtered_df)\n"
      ],
      "metadata": {
        "id": "EXveur7HBw1y"
      },
      "execution_count": null,
      "outputs": []
    },
    {
      "cell_type": "code",
      "source": [
        "#2.\n",
        "\n",
        "# Filter the DataFrame to select rows where the \"Age\" column is greater than or equal to 18 and the \"Gender\" column is \"Female\"\n",
        "filtered_df = df[(df['Age'] >= 18) & (df['Gender'] == 'Female')]\n",
        "\n",
        "# Print the filtered DataFrame to verify the results\n",
        "print(filtered_df)\n"
      ],
      "metadata": {
        "id": "jEnzID8KBwya"
      },
      "execution_count": null,
      "outputs": []
    },
    {
      "cell_type": "markdown",
      "source": [
        "#### Filter by Date"
      ],
      "metadata": {
        "id": "N7_vrHsNCaiR"
      }
    },
    {
      "cell_type": "code",
      "source": [
        "#1.\n",
        "\n",
        "import pandas as pd\n",
        "\n",
        "# Convert the \"Date\" column to datetime format\n",
        "df['Date'] = pd.to_datetime(df['Date'])\n"
      ],
      "metadata": {
        "id": "xkN6mud1Bwv1"
      },
      "execution_count": null,
      "outputs": []
    },
    {
      "cell_type": "code",
      "source": [
        "#2.\n",
        "\n",
        "# Create a filter to select rows where the date is on or after January 1st, 2022\n",
        "date_filter = df['Date'] >= pd.to_datetime('2022-01-01')\n"
      ],
      "metadata": {
        "id": "-ICkFyBYBwtN"
      },
      "execution_count": null,
      "outputs": []
    },
    {
      "cell_type": "code",
      "source": [
        "#3.\n",
        "\n",
        "# Apply the filter to the DataFrame\n",
        "filtered_df = df[date_filter]\n"
      ],
      "metadata": {
        "id": "QEbD-PIWBwqx"
      },
      "execution_count": null,
      "outputs": []
    },
    {
      "cell_type": "code",
      "source": [
        "#4.\n",
        "\n",
        "# Print the filtered DataFrame\n",
        "print(filtered_df)\n"
      ],
      "metadata": {
        "id": "6mccPP93BwoW"
      },
      "execution_count": null,
      "outputs": []
    },
    {
      "cell_type": "code",
      "source": [
        "#5.\n",
        "\n",
        "import pandas as pd\n",
        "\n",
        "# Convert the date column to datetime format\n",
        "df['Date'] = pd.to_datetime(df['Date'], format='%d-%b-%Y')\n",
        "\n",
        "# Extract the month from the date\n",
        "df['Month'] = df['Date'].dt.month\n"
      ],
      "metadata": {
        "id": "zv8xivehBwl6"
      },
      "execution_count": null,
      "outputs": []
    },
    {
      "cell_type": "code",
      "source": [
        "#6.\n",
        "\n",
        "# Filter the DataFrame to select rows where the month is February\n",
        "filtered_df = df[df['Month'] == 2]\n",
        "\n",
        "# Print the filtered DataFrame to verify the results\n",
        "print(filtered_df)\n"
      ],
      "metadata": {
        "id": "sydEiUB3Bwjn"
      },
      "execution_count": null,
      "outputs": []
    },
    {
      "cell_type": "markdown",
      "source": [
        "# Importing Data From Outlook"
      ],
      "metadata": {
        "id": "9r1NM_pfDQAr"
      }
    },
    {
      "cell_type": "code",
      "source": [
        "!pip install pywin32\n"
      ],
      "metadata": {
        "id": "MriwOvgOBwgf"
      },
      "execution_count": null,
      "outputs": []
    },
    {
      "cell_type": "code",
      "source": [
        "import win32com.client\n",
        "import pandas as pd\n"
      ],
      "metadata": {
        "id": "j0zJ4Th1Bwd8"
      },
      "execution_count": null,
      "outputs": []
    },
    {
      "cell_type": "code",
      "source": [
        "outlook = win32com.client.Dispatch(\"Outlook.Application\").GetNamespace(\"MAPI\")\n"
      ],
      "metadata": {
        "id": "PJ0xJLqkBwbO"
      },
      "execution_count": null,
      "outputs": []
    },
    {
      "cell_type": "code",
      "source": [
        "# Get a reference to the Inbox folder\n",
        "inbox = outlook.GetDefaultFolder(6)\n",
        "\n",
        "# Get a reference to a specific subfolder\n",
        "subfolder = inbox.Folders('Archive').Folders('2019')\n"
      ],
      "metadata": {
        "id": "2C1PARQZBwYp"
      },
      "execution_count": null,
      "outputs": []
    },
    {
      "cell_type": "code",
      "source": [
        "# Get all the emails in the Inbox folder\n",
        "emails = inbox.Items\n",
        "\n",
        "# Get all the appointments in a specific subfolder\n",
        "appointments = subfolder.Items\n"
      ],
      "metadata": {
        "id": "mrOr2X9rBwV8"
      },
      "execution_count": null,
      "outputs": []
    },
    {
      "cell_type": "code",
      "source": [
        "# Convert the email data to a Pandas DataFrame\n",
        "email_data = {'Subject': [], 'Sender': [], 'ReceivedTime': []}\n",
        "\n",
        "for email in emails:\n",
        "    email_data['Subject'].append(email.Subject)\n",
        "    email_data['Sender'].append(email.SenderEmailAddress)\n",
        "    email_data['ReceivedTime'].append(email.ReceivedTime)\n",
        "\n",
        "df = pd.DataFrame(email_data)\n"
      ],
      "metadata": {
        "id": "SUjMu6blBwTO"
      },
      "execution_count": null,
      "outputs": []
    },
    {
      "cell_type": "markdown",
      "source": [
        "# Import Data From Gmail "
      ],
      "metadata": {
        "id": "el6Hd_uRD8d2"
      }
    },
    {
      "cell_type": "code",
      "source": [
        "!pip install google-api-python-client\n"
      ],
      "metadata": {
        "id": "82ZOSUwRBwQn"
      },
      "execution_count": null,
      "outputs": []
    },
    {
      "cell_type": "code",
      "source": [
        "from google.oauth2.credentials import Credentials\n",
        "from googleapiclient.discovery import build\n",
        "import pandas as pd\n"
      ],
      "metadata": {
        "id": "L_TuymISBwOG"
      },
      "execution_count": null,
      "outputs": []
    },
    {
      "cell_type": "code",
      "source": [
        "# Load the credentials from a JSON file\n",
        "creds = Credentials.from_authorized_user_file('credentials.json', ['https://www.googleapis.com/auth/gmail.readonly'])\n"
      ],
      "metadata": {
        "id": "mwY6q2kwBwLe"
      },
      "execution_count": null,
      "outputs": []
    },
    {
      "cell_type": "code",
      "source": [
        "# Build a service object for the Gmail API\n",
        "service = build('gmail', 'v1', credentials=creds)\n"
      ],
      "metadata": {
        "id": "fXnQ8ozqBwIm"
      },
      "execution_count": null,
      "outputs": []
    },
    {
      "cell_type": "code",
      "source": [
        "# Get a list of message IDs that match a query\n",
        "messages = service.users().messages().list(userId='me', q='from:example@gmail.com').execute()\n",
        "\n",
        "# Get the full message data for each message\n",
        "message_data = []\n",
        "\n",
        "for message in messages['messages']:\n",
        "    msg = service.users().messages().get(userId='me', id=message['id']).execute()\n",
        "    message_data.append(msg)\n"
      ],
      "metadata": {
        "id": "rJ0tGk2BBwF8"
      },
      "execution_count": null,
      "outputs": []
    },
    {
      "cell_type": "code",
      "source": [
        "# Extract the subject, sender, and date from each message\n",
        "email_data = {'Subject': [], 'Sender': [], 'Date': []}\n",
        "\n",
        "for msg in message_data:\n",
        "    headers = msg['payload']['headers']\n",
        "    for header in headers:\n",
        "        if header['name'] == 'From':\n",
        "            email_data['Sender'].append(header['value'])\n",
        "        elif header['name'] == 'Subject':\n",
        "            email_data['Subject'].append(header['value'])\n",
        "        elif header['name'] == 'Date':\n",
        "            email_data['Date'].append(header['value'])\n",
        "\n",
        "df = pd.DataFrame(email_data)\n"
      ],
      "metadata": {
        "id": "BcsrGTRdBwDH"
      },
      "execution_count": null,
      "outputs": []
    },
    {
      "cell_type": "code",
      "source": [],
      "metadata": {
        "id": "O8FIQNIIBwAM"
      },
      "execution_count": null,
      "outputs": []
    },
    {
      "cell_type": "code",
      "source": [],
      "metadata": {
        "id": "nWobv-4zBvy7"
      },
      "execution_count": null,
      "outputs": []
    }
  ]
}