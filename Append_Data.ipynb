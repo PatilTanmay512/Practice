{
  "nbformat": 4,
  "nbformat_minor": 0,
  "metadata": {
    "colab": {
      "provenance": []
    },
    "kernelspec": {
      "name": "python3",
      "display_name": "Python 3"
    },
    "language_info": {
      "name": "python"
    }
  },
  "cells": [
    {
      "cell_type": "code",
      "execution_count": 3,
      "metadata": {
        "id": "hyYX3a7MI8Fz",
        "colab": {
          "base_uri": "https://localhost:8080/"
        },
        "outputId": "45350aff-d6ab-475b-a49a-0e866b655552"
      },
      "outputs": [
        {
          "output_type": "stream",
          "name": "stdout",
          "text": [
            "    name  age  gender\n",
            "0   John   25    Male\n",
            "1    Bob   30    Male\n",
            "2  Alice   18  Female\n",
            "3  Emily   22  Female\n"
          ]
        }
      ],
      "source": [
        "import pandas as pd\n",
        "\n",
        "# create a sample dataset\n",
        "data = {'name': ['John', 'Bob', 'Alice', 'Emily'], 'age': [25, 30, 18, 22]}\n",
        "df = pd.DataFrame(data)\n",
        "\n",
        "# add a new column called 'gender'\n",
        "df['gender'] = ['Male', 'Male', 'Female', 'Female']\n",
        "\n",
        "# print the updated dataset\n",
        "print(df)\n"
      ]
    },
    {
      "cell_type": "code",
      "source": [
        "import pandas as pd\n",
        "\n",
        "# create a sample dataset\n",
        "data = {'name': ['John', 'Bob', 'Alice', 'Emily'], 'age': [25, 30, 18, 22]}\n",
        "df = pd.DataFrame(data)\n",
        "\n",
        "# add an empty column called 'salary'\n",
        "df['salary'] = pd.DataFrame(columns=['salary'])\n",
        "\n",
        "# print the updated dataset\n",
        "print(df)\n"
      ],
      "metadata": {
        "colab": {
          "base_uri": "https://localhost:8080/"
        },
        "id": "J1D5KyHHDA67",
        "outputId": "4f1dba44-b8d5-4380-8dca-0e16a0fe445c"
      },
      "execution_count": 6,
      "outputs": [
        {
          "output_type": "stream",
          "name": "stdout",
          "text": [
            "    name  age salary\n",
            "0   John   25    NaN\n",
            "1    Bob   30    NaN\n",
            "2  Alice   18    NaN\n",
            "3  Emily   22    NaN\n"
          ]
        }
      ]
    },
    {
      "cell_type": "code",
      "source": [
        "import pandas as pd\n",
        "\n",
        "# create a sample dataset\n",
        "data = {'name': ['John', 'Bob', 'Alice', 'Emily'], 'age': [25, 30, 18, 22], 'salary': [50000, 60000, 45000, 55000]}\n",
        "df = pd.DataFrame(data)\n",
        "\n",
        "# rearrange the columns in the dataset\n",
        "df = df.reindex(columns=['name', 'salary', 'age'])\n",
        "\n",
        "# print the updated dataset\n",
        "print(df)\n"
      ],
      "metadata": {
        "colab": {
          "base_uri": "https://localhost:8080/"
        },
        "id": "By418GRTDYrP",
        "outputId": "5133e230-1e4c-40e6-fd50-10b7d7734097"
      },
      "execution_count": 7,
      "outputs": [
        {
          "output_type": "stream",
          "name": "stdout",
          "text": [
            "    name  salary  age\n",
            "0   John   50000   25\n",
            "1    Bob   60000   30\n",
            "2  Alice   45000   18\n",
            "3  Emily   55000   22\n"
          ]
        }
      ]
    },
    {
      "cell_type": "markdown",
      "source": [
        "# Append Data Set"
      ],
      "metadata": {
        "id": "NgEOV9rkHo8R"
      }
    },
    {
      "cell_type": "code",
      "source": [
        "#To append two Excel files with different formats into one format using Pandas in Python, you can follow these steps:\n",
        "\n",
        "#1.Import the Pandas library:\n",
        "import pandas as pd\n",
        "\n",
        "#2.Load the first Excel file into a Pandas DataFrame:\n",
        "\n",
        "df1 = pd.read_excel('file1.xlsx')\n",
        "\n",
        "#3.Load the second Excel file into a Pandas DataFrame, but only read in the columns that match the desired format:\n",
        "#In this example, we assume that the desired format only includes the 'Name', 'Age', and 'Salary' columns.\n",
        "\n",
        "df2 = pd.read_excel('file2.xlsx', usecols=['Name', 'Age', 'Salary'])\n",
        "\n",
        "#4.Rename the columns in the second DataFrame to match the column names in the first DataFrame:\n",
        "#In this example, we assume that the column names in the first DataFrame are 'name', 'age', and 'salary'.\n",
        "df2 = df2.rename(columns={'Name': 'name', 'Age': 'age', 'Salary': 'salary'})\n",
        "\n",
        "#5.Append the second DataFrame to the first DataFrame:\n",
        "#In this example, we assume that the two DataFrames have the same column order.\n",
        "df = df1.append(df2, ignore_index=True)\n",
        "\n",
        "#6.Write the combined DataFrame to a new Excel file:\n",
        "#In this example, we assume that we want to write the combined DataFrame to a new Excel file\n",
        "# named 'combined_file.xlsx', and that we don't want to include the index column in the output file.\n",
        "\n",
        "df.to_excel('combined_file.xlsx', index=False)\n"
      ],
      "metadata": {
        "id": "Zg1-lS0gEz49"
      },
      "execution_count": null,
      "outputs": []
    }
  ]
}